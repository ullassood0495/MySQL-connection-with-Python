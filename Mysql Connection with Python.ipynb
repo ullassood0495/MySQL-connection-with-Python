{
 "cells": [
  {
   "cell_type": "markdown",
   "metadata": {},
   "source": [
    "# Connect MySQL Workbench Database with Python"
   ]
  },
  {
   "cell_type": "markdown",
   "metadata": {},
   "source": [
    "### Import Library"
   ]
  },
  {
   "cell_type": "code",
   "execution_count": 1,
   "metadata": {},
   "outputs": [],
   "source": [
    "import pymysql"
   ]
  },
  {
   "cell_type": "markdown",
   "metadata": {},
   "source": [
    "### Make a connection between Database and Python IDLE\n",
    "Pass host url.\n",
    "\n",
    "Pass Port No. which provided by workbench.\n",
    "\n",
    "Given the Database username in 'User'.\n",
    "\n",
    "Provide the password for to access the database for to make connection.\n",
    "\n",
    "Given the database name which you given in the mysql softwre."
   ]
  },
  {
   "cell_type": "code",
   "execution_count": 2,
   "metadata": {},
   "outputs": [],
   "source": [
    "connect = pymysql.connect(host='127.0.0.1', port=3306, user='root', password='Ullas0495@',db='timepass')"
   ]
  },
  {
   "cell_type": "markdown",
   "metadata": {},
   "source": [
    "### Create an object for to excute sql queries "
   ]
  },
  {
   "cell_type": "code",
   "execution_count": 3,
   "metadata": {},
   "outputs": [],
   "source": [
    "cursor = connect.cursor()"
   ]
  },
  {
   "cell_type": "markdown",
   "metadata": {},
   "source": [
    "### Execute the query and fetch the data from mysql"
   ]
  },
  {
   "cell_type": "code",
   "execution_count": 4,
   "metadata": {},
   "outputs": [
    {
     "name": "stdout",
     "output_type": "stream",
     "text": [
      "(1, 'Shubham', datetime.date(2017, 8, 1))\n",
      "(2, 'Shubham Gupta', datetime.date(2017, 8, 2))\n",
      "(2, 'Sahil', datetime.date(2017, 8, 2))\n",
      "(5, 'ullas5', datetime.date(2017, 8, 5))\n",
      "(5, 'ullas', datetime.date(2017, 8, 5))\n",
      "(8, 'paras', datetime.date(2017, 8, 10))\n",
      "(20, 'ullas', datetime.date(2017, 8, 20))\n"
     ]
    }
   ],
   "source": [
    "query = \"\"\"select * from ids;\"\"\"\n",
    "cursor.execute(query)\n",
    "a = cursor.fetchall()\n",
    "for row in a:\n",
    "    print(row)"
   ]
  },
  {
   "cell_type": "markdown",
   "metadata": {},
   "source": [
    "### Make connection for commit after completely excute the query "
   ]
  },
  {
   "cell_type": "code",
   "execution_count": 5,
   "metadata": {},
   "outputs": [],
   "source": [
    "connect.commit()"
   ]
  },
  {
   "cell_type": "markdown",
   "metadata": {},
   "source": [
    "### Close the connection "
   ]
  },
  {
   "cell_type": "code",
   "execution_count": 6,
   "metadata": {},
   "outputs": [],
   "source": [
    "connect.close()"
   ]
  }
 ],
 "metadata": {
  "kernelspec": {
   "display_name": "Python 3",
   "language": "python",
   "name": "python3"
  },
  "language_info": {
   "codemirror_mode": {
    "name": "ipython",
    "version": 3
   },
   "file_extension": ".py",
   "mimetype": "text/x-python",
   "name": "python",
   "nbconvert_exporter": "python",
   "pygments_lexer": "ipython3",
   "version": "3.7.3"
  }
 },
 "nbformat": 4,
 "nbformat_minor": 2
}
